{
  "nbformat": 4,
  "nbformat_minor": 0,
  "metadata": {
    "colab": {
      "name": "R_Start3-050322.ipynb",
      "provenance": [],
      "authorship_tag": "ABX9TyOiFz23dfE9ws6E94zt0wZi",
      "include_colab_link": true
    },
    "kernelspec": {
      "name": "ir",
      "display_name": "R"
    },
    "language_info": {
      "name": "R"
    }
  },
  "cells": [
    {
      "cell_type": "markdown",
      "metadata": {
        "id": "view-in-github",
        "colab_type": "text"
      },
      "source": [
        "<a href=\"https://colab.research.google.com/github/martamsimoes10/MPA/blob/main/R_Start3_050322.ipynb\" target=\"_parent\"><img src=\"https://colab.research.google.com/assets/colab-badge.svg\" alt=\"Open In Colab\"/></a>"
      ]
    },
    {
      "cell_type": "code",
      "execution_count": null,
      "metadata": {
        "colab": {
          "base_uri": "https://localhost:8080/"
        },
        "id": "JL886-KDt2Uh",
        "outputId": "acaf0b6c-d366-4fc9-b89e-744d66242792"
      },
      "outputs": [
        {
          "output_type": "stream",
          "name": "stderr",
          "text": [
            "Installing package into ‘/usr/local/lib/R/site-library’\n",
            "(as ‘lib’ is unspecified)\n",
            "\n",
            "also installing the dependencies ‘numDeriv’, ‘warp’, ‘BH’, ‘distributional’, ‘progressr’, ‘slider’, ‘anytime’, ‘fable’, ‘fabletools’, ‘feasts’, ‘tsibble’, ‘tsibbledata’, ‘urca’\n",
            "\n",
            "\n"
          ]
        }
      ],
      "source": [
        "install.packages('fpp3')"
      ]
    },
    {
      "cell_type": "code",
      "source": [
        "library(readxl)\n",
        "library(fpp3)"
      ],
      "metadata": {
        "id": "MlSmB2tFt7GA"
      },
      "execution_count": null,
      "outputs": []
    },
    {
      "cell_type": "code",
      "source": [
        "dados <- read_excel(\"R_Start3-Dados.xlsx\", sheet = \"Folha1\")\n",
        "dados"
      ],
      "metadata": {
        "colab": {
          "base_uri": "https://localhost:8080/",
          "height": 255
        },
        "id": "QzqN69QpuddO",
        "outputId": "60c92cf3-7a86-460e-c684-3f26c3863fda"
      },
      "execution_count": null,
      "outputs": [
        {
          "output_type": "display_data",
          "data": {
            "text/plain": [
              "  Dat  Obs\n",
              "1 2015 123\n",
              "2 2016  39\n",
              "3 2017  78\n",
              "4 2018  52\n",
              "5 2019 110"
            ],
            "text/latex": "A tibble: 5 × 2\n\\begin{tabular}{ll}\n Dat & Obs\\\\\n <dbl> & <dbl>\\\\\n\\hline\n\t 2015 & 123\\\\\n\t 2016 &  39\\\\\n\t 2017 &  78\\\\\n\t 2018 &  52\\\\\n\t 2019 & 110\\\\\n\\end{tabular}\n",
            "text/markdown": "\nA tibble: 5 × 2\n\n| Dat &lt;dbl&gt; | Obs &lt;dbl&gt; |\n|---|---|\n| 2015 | 123 |\n| 2016 |  39 |\n| 2017 |  78 |\n| 2018 |  52 |\n| 2019 | 110 |\n\n",
            "text/html": [
              "<table class=\"dataframe\">\n",
              "<caption>A tibble: 5 × 2</caption>\n",
              "<thead>\n",
              "\t<tr><th scope=col>Dat</th><th scope=col>Obs</th></tr>\n",
              "\t<tr><th scope=col>&lt;dbl&gt;</th><th scope=col>&lt;dbl&gt;</th></tr>\n",
              "</thead>\n",
              "<tbody>\n",
              "\t<tr><td>2015</td><td>123</td></tr>\n",
              "\t<tr><td>2016</td><td> 39</td></tr>\n",
              "\t<tr><td>2017</td><td> 78</td></tr>\n",
              "\t<tr><td>2018</td><td> 52</td></tr>\n",
              "\t<tr><td>2019</td><td>110</td></tr>\n",
              "</tbody>\n",
              "</table>\n"
            ]
          },
          "metadata": {}
        }
      ]
    },
    {
      "cell_type": "code",
      "source": [
        "dados$Dat"
      ],
      "metadata": {
        "colab": {
          "base_uri": "https://localhost:8080/",
          "height": 34
        },
        "id": "aAaWAZ0Yutk9",
        "outputId": "22384d57-287f-4d65-9b0b-fae9dd55646e"
      },
      "execution_count": null,
      "outputs": [
        {
          "output_type": "display_data",
          "data": {
            "text/plain": [
              "[1] 2015 2016 2017 2018 2019"
            ],
            "text/latex": "\\begin{enumerate*}\n\\item 2015\n\\item 2016\n\\item 2017\n\\item 2018\n\\item 2019\n\\end{enumerate*}\n",
            "text/markdown": "1. 2015\n2. 2016\n3. 2017\n4. 2018\n5. 2019\n\n\n",
            "text/html": [
              "<style>\n",
              ".list-inline {list-style: none; margin:0; padding: 0}\n",
              ".list-inline>li {display: inline-block}\n",
              ".list-inline>li:not(:last-child)::after {content: \"\\00b7\"; padding: 0 .5ex}\n",
              "</style>\n",
              "<ol class=list-inline><li>2015</li><li>2016</li><li>2017</li><li>2018</li><li>2019</li></ol>\n"
            ]
          },
          "metadata": {}
        }
      ]
    },
    {
      "cell_type": "code",
      "source": [
        "dados$Obs"
      ],
      "metadata": {
        "colab": {
          "base_uri": "https://localhost:8080/",
          "height": 34
        },
        "id": "OWZaEXudwtMb",
        "outputId": "8c761d57-4114-4cab-850d-a2c51c8a1b22"
      },
      "execution_count": null,
      "outputs": [
        {
          "output_type": "display_data",
          "data": {
            "text/plain": [
              "[1] 123  39  78  52 110"
            ],
            "text/latex": "\\begin{enumerate*}\n\\item 123\n\\item 39\n\\item 78\n\\item 52\n\\item 110\n\\end{enumerate*}\n",
            "text/markdown": "1. 123\n2. 39\n3. 78\n4. 52\n5. 110\n\n\n",
            "text/html": [
              "<style>\n",
              ".list-inline {list-style: none; margin:0; padding: 0}\n",
              ".list-inline>li {display: inline-block}\n",
              ".list-inline>li:not(:last-child)::after {content: \"\\00b7\"; padding: 0 .5ex}\n",
              "</style>\n",
              "<ol class=list-inline><li>123</li><li>39</li><li>78</li><li>52</li><li>110</li></ol>\n"
            ]
          },
          "metadata": {}
        }
      ]
    },
    {
      "cell_type": "code",
      "source": [
        "dadosts <- tsibble(Ano = dados$Dat,\n",
        "                    Obs = dados$Obs,\n",
        "                    index = Ano)\n",
        "dadosts"
      ],
      "metadata": {
        "colab": {
          "base_uri": "https://localhost:8080/",
          "height": 255
        },
        "id": "33JqQGXcw0C7",
        "outputId": "b7b9f034-64ce-4bfe-ba8f-0d0a107cf984"
      },
      "execution_count": null,
      "outputs": [
        {
          "output_type": "display_data",
          "data": {
            "text/plain": [
              "  Ano  Obs\n",
              "1 2015 123\n",
              "2 2016  39\n",
              "3 2017  78\n",
              "4 2018  52\n",
              "5 2019 110"
            ],
            "text/latex": "A tbl\\_ts: 5 × 2\n\\begin{tabular}{ll}\n Ano & Obs\\\\\n <dbl> & <dbl>\\\\\n\\hline\n\t 2015 & 123\\\\\n\t 2016 &  39\\\\\n\t 2017 &  78\\\\\n\t 2018 &  52\\\\\n\t 2019 & 110\\\\\n\\end{tabular}\n",
            "text/markdown": "\nA tbl_ts: 5 × 2\n\n| Ano &lt;dbl&gt; | Obs &lt;dbl&gt; |\n|---|---|\n| 2015 | 123 |\n| 2016 |  39 |\n| 2017 |  78 |\n| 2018 |  52 |\n| 2019 | 110 |\n\n",
            "text/html": [
              "<table class=\"dataframe\">\n",
              "<caption>A tbl_ts: 5 × 2</caption>\n",
              "<thead>\n",
              "\t<tr><th scope=col>Ano</th><th scope=col>Obs</th></tr>\n",
              "\t<tr><th scope=col>&lt;dbl&gt;</th><th scope=col>&lt;dbl&gt;</th></tr>\n",
              "</thead>\n",
              "<tbody>\n",
              "\t<tr><td>2015</td><td>123</td></tr>\n",
              "\t<tr><td>2016</td><td> 39</td></tr>\n",
              "\t<tr><td>2017</td><td> 78</td></tr>\n",
              "\t<tr><td>2018</td><td> 52</td></tr>\n",
              "\t<tr><td>2019</td><td>110</td></tr>\n",
              "</tbody>\n",
              "</table>\n"
            ]
          },
          "metadata": {}
        }
      ]
    },
    {
      "cell_type": "code",
      "source": [
        "autoplot(dadosts)"
      ],
      "metadata": {
        "colab": {
          "base_uri": "https://localhost:8080/",
          "height": 454
        },
        "id": "Ts0sZ95kxPoC",
        "outputId": "bfc2142c-b666-417a-b632-bfcc68a2b4ff"
      },
      "execution_count": null,
      "outputs": [
        {
          "output_type": "stream",
          "name": "stderr",
          "text": [
            "Plot variable not specified, automatically selected `.vars = Obs`\n"
          ]
        },
        {
          "output_type": "display_data",
          "data": {
            "image/png": "[encoded data removed]",
            "text/plain": [
              "plot without title"
            ]
          },
          "metadata": {
            "image/png": {
              "width": 420,
              "height": 420
            }
          }
        }
      ]
    },
    {
      "cell_type": "code",
      "source": [
        "folha2 <- read_excel(\"R_Start3-Dados.xlsx\",\n",
        "                     sheet = \"Folha2\")\n",
        "\n",
        "folha2"
      ],
      "metadata": {
        "colab": {
          "base_uri": "https://localhost:8080/",
          "height": 255
        },
        "id": "xs8_SPKIxSa3",
        "outputId": "21a5bf9b-1cf3-4f87-8422-2e49715e29cb"
      },
      "execution_count": null,
      "outputs": [
        {
          "output_type": "display_data",
          "data": {
            "text/plain": [
              "  Dat        Obs\n",
              "1 2020-01-01 123\n",
              "2 2020-02-01  39\n",
              "3 2020-03-01  78\n",
              "4 2020-04-01  52\n",
              "5 2020-05-01 110"
            ],
            "text/latex": "A tibble: 5 × 2\n\\begin{tabular}{ll}\n Dat & Obs\\\\\n <dttm> & <dbl>\\\\\n\\hline\n\t 2020-01-01 & 123\\\\\n\t 2020-02-01 &  39\\\\\n\t 2020-03-01 &  78\\\\\n\t 2020-04-01 &  52\\\\\n\t 2020-05-01 & 110\\\\\n\\end{tabular}\n",
            "text/markdown": "\nA tibble: 5 × 2\n\n| Dat &lt;dttm&gt; | Obs &lt;dbl&gt; |\n|---|---|\n| 2020-01-01 | 123 |\n| 2020-02-01 |  39 |\n| 2020-03-01 |  78 |\n| 2020-04-01 |  52 |\n| 2020-05-01 | 110 |\n\n",
            "text/html": [
              "<table class=\"dataframe\">\n",
              "<caption>A tibble: 5 × 2</caption>\n",
              "<thead>\n",
              "\t<tr><th scope=col>Dat</th><th scope=col>Obs</th></tr>\n",
              "\t<tr><th scope=col>&lt;dttm&gt;</th><th scope=col>&lt;dbl&gt;</th></tr>\n",
              "</thead>\n",
              "<tbody>\n",
              "\t<tr><td>2020-01-01</td><td>123</td></tr>\n",
              "\t<tr><td>2020-02-01</td><td> 39</td></tr>\n",
              "\t<tr><td>2020-03-01</td><td> 78</td></tr>\n",
              "\t<tr><td>2020-04-01</td><td> 52</td></tr>\n",
              "\t<tr><td>2020-05-01</td><td>110</td></tr>\n",
              "</tbody>\n",
              "</table>\n"
            ]
          },
          "metadata": {}
        }
      ]
    },
    {
      "cell_type": "code",
      "source": [
        "folha2ts <- tsibble (Anomes = yearmonth(folha2$Dat),\n",
        "                    Obs = folha2$Obs,\n",
        "                    index = Anomes )\n",
        "folha2ts"
      ],
      "metadata": {
        "colab": {
          "base_uri": "https://localhost:8080/",
          "height": 255
        },
        "id": "yY5k_Lvfx-zG",
        "outputId": "9dd3ebec-043b-45e2-bbd4-8b9bfe9917ce"
      },
      "execution_count": null,
      "outputs": [
        {
          "output_type": "display_data",
          "data": {
            "text/plain": [
              "  Anomes   Obs\n",
              "1 2020 Jan 123\n",
              "2 2020 Feb  39\n",
              "3 2020 Mar  78\n",
              "4 2020 Apr  52\n",
              "5 2020 May 110"
            ],
            "text/latex": "A tbl\\_ts: 5 × 2\n\\begin{tabular}{ll}\n Anomes & Obs\\\\\n <mth> & <dbl>\\\\\n\\hline\n\t 2020 Jan & 123\\\\\n\t 2020 Feb &  39\\\\\n\t 2020 Mar &  78\\\\\n\t 2020 Apr &  52\\\\\n\t 2020 May & 110\\\\\n\\end{tabular}\n",
            "text/markdown": "\nA tbl_ts: 5 × 2\n\n| Anomes &lt;mth&gt; | Obs &lt;dbl&gt; |\n|---|---|\n| 2020 Jan | 123 |\n| 2020 Feb |  39 |\n| 2020 Mar |  78 |\n| 2020 Apr |  52 |\n| 2020 May | 110 |\n\n",
            "text/html": [
              "<table class=\"dataframe\">\n",
              "<caption>A tbl_ts: 5 × 2</caption>\n",
              "<thead>\n",
              "\t<tr><th scope=col>Anomes</th><th scope=col>Obs</th></tr>\n",
              "\t<tr><th scope=col>&lt;mth&gt;</th><th scope=col>&lt;dbl&gt;</th></tr>\n",
              "</thead>\n",
              "<tbody>\n",
              "\t<tr><td>2020 Jan</td><td>123</td></tr>\n",
              "\t<tr><td>2020 Feb</td><td> 39</td></tr>\n",
              "\t<tr><td>2020 Mar</td><td> 78</td></tr>\n",
              "\t<tr><td>2020 Apr</td><td> 52</td></tr>\n",
              "\t<tr><td>2020 May</td><td>110</td></tr>\n",
              "</tbody>\n",
              "</table>\n"
            ]
          },
          "metadata": {}
        }
      ]
    },
    {
      "cell_type": "code",
      "source": [
        "folha3 <- read_excel(\"R_Start3-Dados.xlsx\",\n",
        "                     sheet = \"Folha3\")\n",
        "folha3"
      ],
      "metadata": {
        "colab": {
          "base_uri": "https://localhost:8080/",
          "height": 255
        },
        "id": "rmrlEMofyn5l",
        "outputId": "50553399-6c68-4a32-a546-650beda80e16"
      },
      "execution_count": null,
      "outputs": [
        {
          "output_type": "display_data",
          "data": {
            "text/plain": [
              "  Dat     Obs\n",
              "1 1T-2019 123\n",
              "2 2T-2019  39\n",
              "3 3T-2019  78\n",
              "4 4T-2019  52\n",
              "5 1T-2020 110"
            ],
            "text/latex": "A tibble: 5 × 2\n\\begin{tabular}{ll}\n Dat & Obs\\\\\n <chr> & <dbl>\\\\\n\\hline\n\t 1T-2019 & 123\\\\\n\t 2T-2019 &  39\\\\\n\t 3T-2019 &  78\\\\\n\t 4T-2019 &  52\\\\\n\t 1T-2020 & 110\\\\\n\\end{tabular}\n",
            "text/markdown": "\nA tibble: 5 × 2\n\n| Dat &lt;chr&gt; | Obs &lt;dbl&gt; |\n|---|---|\n| 1T-2019 | 123 |\n| 2T-2019 |  39 |\n| 3T-2019 |  78 |\n| 4T-2019 |  52 |\n| 1T-2020 | 110 |\n\n",
            "text/html": [
              "<table class=\"dataframe\">\n",
              "<caption>A tibble: 5 × 2</caption>\n",
              "<thead>\n",
              "\t<tr><th scope=col>Dat</th><th scope=col>Obs</th></tr>\n",
              "\t<tr><th scope=col>&lt;chr&gt;</th><th scope=col>&lt;dbl&gt;</th></tr>\n",
              "</thead>\n",
              "<tbody>\n",
              "\t<tr><td>1T-2019</td><td>123</td></tr>\n",
              "\t<tr><td>2T-2019</td><td> 39</td></tr>\n",
              "\t<tr><td>3T-2019</td><td> 78</td></tr>\n",
              "\t<tr><td>4T-2019</td><td> 52</td></tr>\n",
              "\t<tr><td>1T-2020</td><td>110</td></tr>\n",
              "</tbody>\n",
              "</table>\n"
            ]
          },
          "metadata": {}
        }
      ]
    },
    {
      "cell_type": "code",
      "source": [
        "folha3ts <- tsibble (AnoTrim =yearquarter(folha3$Dat),\n",
        "                    Obs = folha3$Obs,\n",
        "                    index = AnoTrim)\n",
        "\n",
        "folha3ts"
      ],
      "metadata": {
        "id": "V0vSn1dLywl7"
      },
      "execution_count": null,
      "outputs": []
    },
    {
      "cell_type": "code",
      "source": [
        "#dar novos nomes aos trimestres. substituir na coluna que tinhamos anteriormente\n",
        "#Para serem reconhecidos como trimestres\n",
        "yearquarter(\"2019 Q1\") + 0:(nrow(folha3)-1)"
      ],
      "metadata": {
        "colab": {
          "base_uri": "https://localhost:8080/",
          "height": 69
        },
        "id": "cKaZAPG1zVhL",
        "outputId": "4aa3e06e-9ed8-4959-d2bb-c76e7c132db9"
      },
      "execution_count": null,
      "outputs": [
        {
          "output_type": "display_data",
          "data": {
            "text/plain": [
              "<yearquarter[5]>\n",
              "[1] \"2019 Q1\" \"2019 Q2\" \"2019 Q3\" \"2019 Q4\" \"2020 Q1\"\n",
              "# Year starts on: January"
            ]
          },
          "metadata": {}
        }
      ]
    },
    {
      "cell_type": "code",
      "source": [
        "folha3ts <- tsibble(AnoTrim = yearquarter(\"2019 Q1\") + 0:(nrow(folha3)-1),\n",
        "                    Obs = folha3$Obs,\n",
        "                    index = AnoTrim)\n",
        "folha3ts"
      ],
      "metadata": {
        "colab": {
          "base_uri": "https://localhost:8080/",
          "height": 255
        },
        "id": "AGUK8A3DzsTJ",
        "outputId": "49d3163e-3d58-46fc-ea6b-585250837366"
      },
      "execution_count": null,
      "outputs": [
        {
          "output_type": "display_data",
          "data": {
            "text/plain": [
              "  AnoTrim Obs\n",
              "1 2019 Q1 123\n",
              "2 2019 Q2  39\n",
              "3 2019 Q3  78\n",
              "4 2019 Q4  52\n",
              "5 2020 Q1 110"
            ],
            "text/latex": "A tbl\\_ts: 5 × 2\n\\begin{tabular}{ll}\n AnoTrim & Obs\\\\\n <qtr> & <dbl>\\\\\n\\hline\n\t 2019 Q1 & 123\\\\\n\t 2019 Q2 &  39\\\\\n\t 2019 Q3 &  78\\\\\n\t 2019 Q4 &  52\\\\\n\t 2020 Q1 & 110\\\\\n\\end{tabular}\n",
            "text/markdown": "\nA tbl_ts: 5 × 2\n\n| AnoTrim &lt;qtr&gt; | Obs &lt;dbl&gt; |\n|---|---|\n| 2019 Q1 | 123 |\n| 2019 Q2 |  39 |\n| 2019 Q3 |  78 |\n| 2019 Q4 |  52 |\n| 2020 Q1 | 110 |\n\n",
            "text/html": [
              "<table class=\"dataframe\">\n",
              "<caption>A tbl_ts: 5 × 2</caption>\n",
              "<thead>\n",
              "\t<tr><th scope=col>AnoTrim</th><th scope=col>Obs</th></tr>\n",
              "\t<tr><th scope=col>&lt;qtr&gt;</th><th scope=col>&lt;dbl&gt;</th></tr>\n",
              "</thead>\n",
              "<tbody>\n",
              "\t<tr><td>2019 Q1</td><td>123</td></tr>\n",
              "\t<tr><td>2019 Q2</td><td> 39</td></tr>\n",
              "\t<tr><td>2019 Q3</td><td> 78</td></tr>\n",
              "\t<tr><td>2019 Q4</td><td> 52</td></tr>\n",
              "\t<tr><td>2020 Q1</td><td>110</td></tr>\n",
              "</tbody>\n",
              "</table>\n"
            ]
          },
          "metadata": {}
        }
      ]
    }
  ]
}